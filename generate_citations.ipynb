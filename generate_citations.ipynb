{
 "cells": [
  {
   "cell_type": "code",
   "execution_count": null,
   "id": "a1bca58c-a874-40bf-83d5-29724d10c0ba",
   "metadata": {
    "tags": []
   },
   "outputs": [],
   "source": [
    "library(knitr)\n",
    "\n",
    "docs_dir <- here::here(\"results\")"
   ]
  },
  {
   "cell_type": "code",
   "execution_count": null,
   "id": "987d0858-9db4-42bf-8950-bd5522066188",
   "metadata": {
    "tags": []
   },
   "outputs": [],
   "source": [
    "packs <- \n",
    "  c(\n",
    "    'dplyr',\n",
    "  #  'survival', \n",
    "   # 'emmeans', \n",
    "    'broom',\n",
    "  #  'survminer',\n",
    "  # 'splines',\n",
    "    'lubridate',\n",
    "    'rlang',\n",
    "    'tidyr',\n",
    "    'arrow',\n",
    "    'table1',\n",
    "    'forcats',\n",
    "    'ggplot2',\n",
    "    'xtable'\n",
    "  )\n",
    "\n",
    "\n",
    "write_bib(file = file.path(docs_dir, 'core_r.bib'))\n",
    "knitr::write_bib(packs, file = file.path(docs_dir, 'packages.bib'))"
   ]
  }
 ],
 "metadata": {
  "kernelspec": {
   "display_name": "R",
   "language": "R",
   "name": "ir"
  },
  "language_info": {
   "codemirror_mode": "r",
   "file_extension": ".r",
   "mimetype": "text/x-r-source",
   "name": "R",
   "pygments_lexer": "r",
   "version": "4.1.3"
  }
 },
 "nbformat": 4,
 "nbformat_minor": 5
}
